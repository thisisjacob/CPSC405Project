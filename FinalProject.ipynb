{
 "cells": [
  {
   "cell_type": "code",
   "execution_count": 44,
   "metadata": {},
   "outputs": [],
   "source": [
    "import pandas as pd\n",
    "import numpy as np\n",
    "import matplotlib.pyplot as plt"
   ]
  },
  {
   "cell_type": "code",
   "execution_count": 45,
   "metadata": {},
   "outputs": [],
   "source": [
    "# Columns from data specification provided by dataset authors\n",
    "columns = [\"seismic\", \"seismoacoustic\", \"shift\", \"genergy\", \"gpuls\", \"gdenergy\", \"gdpuls\", \"ghazard\", \"nbumps\",\n",
    "          \"nbumps2\", \"nbumps3\", \"nbumps4\", \"nbumps5\", \"nbumps6\", \"nbumps7\", \"nbumps89\", \"energy\", \"maxenergy\", \"class\"]\n",
    "# File extension is not .csv, but by removing the comments in the file, it can be imported as a .csv file\n",
    "data = pd.read_csv(\"seismic-bumps.arff\", names=columns)"
   ]
  },
  {
   "cell_type": "code",
   "execution_count": 46,
   "metadata": {},
   "outputs": [
    {
     "name": "stdout",
     "output_type": "stream",
     "text": [
      "     seismic seismoacoustic shift  genergy  gpuls  gdenergy  gdpuls ghazard  \\\n",
      "0          a              a     N    15180     48       -72     -72       a   \n",
      "1          a              a     N    14720     33       -70     -79       a   \n",
      "2          a              a     N     8050     30       -81     -78       a   \n",
      "3          a              a     N    28820    171       -23      40       a   \n",
      "4          a              a     N    12640     57       -63     -52       a   \n",
      "...      ...            ...   ...      ...    ...       ...     ...     ...   \n",
      "2579       b              a     W    81410    785       432     151       b   \n",
      "2580       b              a     W    42110    555       213     118       a   \n",
      "2581       b              a     W    26960    540       101     112       a   \n",
      "2582       a              a     W    16130    322         2       2       a   \n",
      "2583       a              a     W    12750    235       -10     -10       a   \n",
      "\n",
      "      nbumps  nbumps2  nbumps3  nbumps4  nbumps5  nbumps6  nbumps7  nbumps89  \\\n",
      "0          0        0        0        0        0        0        0         0   \n",
      "1          1        0        1        0        0        0        0         0   \n",
      "2          0        0        0        0        0        0        0         0   \n",
      "3          1        0        1        0        0        0        0         0   \n",
      "4          0        0        0        0        0        0        0         0   \n",
      "...      ...      ...      ...      ...      ...      ...      ...       ...   \n",
      "2579       0        0        0        0        0        0        0         0   \n",
      "2580       0        0        0        0        0        0        0         0   \n",
      "2581       0        0        0        0        0        0        0         0   \n",
      "2582       0        0        0        0        0        0        0         0   \n",
      "2583       0        0        0        0        0        0        0         0   \n",
      "\n",
      "      energy  maxenergy  class  \n",
      "0          0          0      0  \n",
      "1       2000       2000      0  \n",
      "2          0          0      0  \n",
      "3       3000       3000      0  \n",
      "4          0          0      0  \n",
      "...      ...        ...    ...  \n",
      "2579       0          0      0  \n",
      "2580       0          0      0  \n",
      "2581       0          0      0  \n",
      "2582       0          0      0  \n",
      "2583       0          0      0  \n",
      "\n",
      "[2584 rows x 19 columns]\n"
     ]
    }
   ],
   "source": [
    "print(data)"
   ]
  },
  {
   "cell_type": "code",
   "execution_count": 47,
   "metadata": {},
   "outputs": [
    {
     "name": "stdout",
     "output_type": "stream",
     "text": [
      "X:       seismic seismoacoustic shift  genergy  gpuls  gdenergy  gdpuls ghazard  \\\n",
      "0          a              a     N    15180     48       -72     -72       a   \n",
      "1          a              a     N    14720     33       -70     -79       a   \n",
      "2          a              a     N     8050     30       -81     -78       a   \n",
      "3          a              a     N    28820    171       -23      40       a   \n",
      "4          a              a     N    12640     57       -63     -52       a   \n",
      "...      ...            ...   ...      ...    ...       ...     ...     ...   \n",
      "2579       b              a     W    81410    785       432     151       b   \n",
      "2580       b              a     W    42110    555       213     118       a   \n",
      "2581       b              a     W    26960    540       101     112       a   \n",
      "2582       a              a     W    16130    322         2       2       a   \n",
      "2583       a              a     W    12750    235       -10     -10       a   \n",
      "\n",
      "      nbumps  nbumps2  nbumps3  nbumps4  nbumps5  nbumps6  nbumps7  nbumps89  \\\n",
      "0          0        0        0        0        0        0        0         0   \n",
      "1          1        0        1        0        0        0        0         0   \n",
      "2          0        0        0        0        0        0        0         0   \n",
      "3          1        0        1        0        0        0        0         0   \n",
      "4          0        0        0        0        0        0        0         0   \n",
      "...      ...      ...      ...      ...      ...      ...      ...       ...   \n",
      "2579       0        0        0        0        0        0        0         0   \n",
      "2580       0        0        0        0        0        0        0         0   \n",
      "2581       0        0        0        0        0        0        0         0   \n",
      "2582       0        0        0        0        0        0        0         0   \n",
      "2583       0        0        0        0        0        0        0         0   \n",
      "\n",
      "      energy  maxenergy  \n",
      "0          0          0  \n",
      "1       2000       2000  \n",
      "2          0          0  \n",
      "3       3000       3000  \n",
      "4          0          0  \n",
      "...      ...        ...  \n",
      "2579       0          0  \n",
      "2580       0          0  \n",
      "2581       0          0  \n",
      "2582       0          0  \n",
      "2583       0          0  \n",
      "\n",
      "[2584 rows x 18 columns]\n",
      "Y:  0       0\n",
      "1       0\n",
      "2       0\n",
      "3       0\n",
      "4       0\n",
      "       ..\n",
      "2579    0\n",
      "2580    0\n",
      "2581    0\n",
      "2582    0\n",
      "2583    0\n",
      "Name: class, Length: 2584, dtype: int64\n"
     ]
    }
   ],
   "source": [
    "X = data.iloc[:, 0:-1]\n",
    "y = data[\"class\"]\n",
    "print(\"X: \", X)\n",
    "print(\"Y: \", y)"
   ]
  },
  {
   "cell_type": "code",
   "execution_count": 48,
   "metadata": {},
   "outputs": [
    {
     "name": "stdout",
     "output_type": "stream",
     "text": [
      "      seismic  seismoacoustic  shift  genergy  gpuls  gdenergy  gdpuls  \\\n",
      "0           0               0      0    15180     48       -72     -72   \n",
      "1           0               0      0    14720     33       -70     -79   \n",
      "2           0               0      0     8050     30       -81     -78   \n",
      "3           0               0      0    28820    171       -23      40   \n",
      "4           0               0      0    12640     57       -63     -52   \n",
      "...       ...             ...    ...      ...    ...       ...     ...   \n",
      "2579        1               0      1    81410    785       432     151   \n",
      "2580        1               0      1    42110    555       213     118   \n",
      "2581        1               0      1    26960    540       101     112   \n",
      "2582        0               0      1    16130    322         2       2   \n",
      "2583        0               0      1    12750    235       -10     -10   \n",
      "\n",
      "      ghazard  nbumps  nbumps2  nbumps3  nbumps4  nbumps5  nbumps6  nbumps7  \\\n",
      "0           0       0        0        0        0        0        0        0   \n",
      "1           0       1        0        1        0        0        0        0   \n",
      "2           0       0        0        0        0        0        0        0   \n",
      "3           0       1        0        1        0        0        0        0   \n",
      "4           0       0        0        0        0        0        0        0   \n",
      "...       ...     ...      ...      ...      ...      ...      ...      ...   \n",
      "2579        1       0        0        0        0        0        0        0   \n",
      "2580        0       0        0        0        0        0        0        0   \n",
      "2581        0       0        0        0        0        0        0        0   \n",
      "2582        0       0        0        0        0        0        0        0   \n",
      "2583        0       0        0        0        0        0        0        0   \n",
      "\n",
      "      nbumps89  energy  maxenergy  \n",
      "0            0       0          0  \n",
      "1            0    2000       2000  \n",
      "2            0       0          0  \n",
      "3            0    3000       3000  \n",
      "4            0       0          0  \n",
      "...        ...     ...        ...  \n",
      "2579         0       0          0  \n",
      "2580         0       0          0  \n",
      "2581         0       0          0  \n",
      "2582         0       0          0  \n",
      "2583         0       0          0  \n",
      "\n",
      "[2584 rows x 18 columns]\n"
     ]
    }
   ],
   "source": [
    "from sklearn.preprocessing import LabelEncoder\n",
    "# The features seismic, seismoacousatic, shift and ghzard are categorical data consisting of characters. \n",
    "# They must be converted to numeric values\n",
    "X[\"seismic\"] = LabelEncoder().fit_transform(X[\"seismic\"])\n",
    "X[\"seismoacoustic\"] = LabelEncoder().fit_transform(X[\"seismoacoustic\"])\n",
    "X[\"shift\"] = LabelEncoder().fit_transform(X[\"shift\"])\n",
    "X[\"ghazard\"] = LabelEncoder().fit_transform(X[\"ghazard\"])\n",
    "print(X)"
   ]
  },
  {
   "cell_type": "code",
   "execution_count": 50,
   "metadata": {},
   "outputs": [
    {
     "name": "stdout",
     "output_type": "stream",
     "text": [
      "[[-0.73230209 -0.77142023 -1.34374329 ...  0.         -0.24332671\n",
      "  -0.22108685]\n",
      " [-0.73230209 -0.77142023 -1.34374329 ...  0.         -0.14551225\n",
      "  -0.11774749]\n",
      " [-0.73230209 -0.77142023 -1.34374329 ...  0.         -0.24332671\n",
      "  -0.22108685]\n",
      " ...\n",
      " [ 1.36555667 -0.77142023  0.74418976 ...  0.         -0.24332671\n",
      "  -0.22108685]\n",
      " [-0.73230209 -0.77142023  0.74418976 ...  0.         -0.24332671\n",
      "  -0.22108685]\n",
      " [-0.73230209 -0.77142023  0.74418976 ...  0.         -0.24332671\n",
      "  -0.22108685]]\n"
     ]
    }
   ],
   "source": [
    "# Scaling numeric data\n",
    "from sklearn.preprocessing import StandardScaler\n",
    "scaler = StandardScaler()\n",
    "X = scaler.fit_transform(X)\n",
    "# Need to turn back into a DataFrame, or preserve the existing DataFrame structure\n",
    "print(X)"
   ]
  },
  {
   "cell_type": "code",
   "execution_count": null,
   "metadata": {},
   "outputs": [],
   "source": []
  }
 ],
 "metadata": {
  "kernelspec": {
   "display_name": "Python 3",
   "language": "python",
   "name": "python3"
  },
  "language_info": {
   "codemirror_mode": {
    "name": "ipython",
    "version": 3
   },
   "file_extension": ".py",
   "mimetype": "text/x-python",
   "name": "python",
   "nbconvert_exporter": "python",
   "pygments_lexer": "ipython3",
   "version": "3.8.3"
  }
 },
 "nbformat": 4,
 "nbformat_minor": 4
}

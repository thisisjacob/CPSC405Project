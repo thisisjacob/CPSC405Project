{
 "cells": [
  {
   "cell_type": "code",
   "execution_count": 1,
   "metadata": {},
   "outputs": [],
   "source": [
    "import pandas as pd\n",
    "import numpy as np\n",
    "import matplotlib.pyplot as plt\n",
    "from sklearn.linear_model import LogisticRegression\n",
    "from sklearn.ensemble import RandomForestClassifier\n",
    "from sklearn.model_selection import cross_val_score\n",
    "import sklearn.metrics\n",
    "\n",
    "# Description: Predicting the occurrence of seismic events based on geological information from mines\n",
    "# This is a binary classification problem, where 1 (True) means that a seismic bump occurs in the next shift\n",
    "# 0 (False) means that a seismic bump will NOT occur in the next shift\n",
    "# Dataset Source: https://archive.ics.uci.edu/ml/datasets/seismic-bumps\n",
    "\n",
    "randomSeed = 50"
   ]
  },
  {
   "cell_type": "code",
   "execution_count": 2,
   "metadata": {},
   "outputs": [],
   "source": [
    "# Columns from data specification provided by dataset authors\n",
    "columns = [\"seismic\", \"seismoacoustic\", \"shift\", \"genergy\", \"gpuls\", \"gdenergy\", \"gdpuls\", \"ghazard\", \"nbumps\",\n",
    "          \"nbumps2\", \"nbumps3\", \"nbumps4\", \"nbumps5\", \"nbumps6\", \"nbumps7\", \"nbumps89\", \"energy\", \"maxenergy\", \"class\"]\n",
    "# File extension is not .csv, but by removing the comments in the file, it can be imported as a .csv file\n",
    "data = pd.read_csv(\"seismic-bumps.arff\", names=columns)"
   ]
  },
  {
   "cell_type": "code",
   "execution_count": 3,
   "metadata": {},
   "outputs": [
    {
     "name": "stdout",
     "output_type": "stream",
     "text": [
      "     seismic seismoacoustic shift  genergy  gpuls  gdenergy  gdpuls ghazard  \\\n",
      "0          a              a     N    15180     48       -72     -72       a   \n",
      "1          a              a     N    14720     33       -70     -79       a   \n",
      "2          a              a     N     8050     30       -81     -78       a   \n",
      "3          a              a     N    28820    171       -23      40       a   \n",
      "4          a              a     N    12640     57       -63     -52       a   \n",
      "...      ...            ...   ...      ...    ...       ...     ...     ...   \n",
      "2579       b              a     W    81410    785       432     151       b   \n",
      "2580       b              a     W    42110    555       213     118       a   \n",
      "2581       b              a     W    26960    540       101     112       a   \n",
      "2582       a              a     W    16130    322         2       2       a   \n",
      "2583       a              a     W    12750    235       -10     -10       a   \n",
      "\n",
      "      nbumps  nbumps2  nbumps3  nbumps4  nbumps5  nbumps6  nbumps7  nbumps89  \\\n",
      "0          0        0        0        0        0        0        0         0   \n",
      "1          1        0        1        0        0        0        0         0   \n",
      "2          0        0        0        0        0        0        0         0   \n",
      "3          1        0        1        0        0        0        0         0   \n",
      "4          0        0        0        0        0        0        0         0   \n",
      "...      ...      ...      ...      ...      ...      ...      ...       ...   \n",
      "2579       0        0        0        0        0        0        0         0   \n",
      "2580       0        0        0        0        0        0        0         0   \n",
      "2581       0        0        0        0        0        0        0         0   \n",
      "2582       0        0        0        0        0        0        0         0   \n",
      "2583       0        0        0        0        0        0        0         0   \n",
      "\n",
      "      energy  maxenergy  class  \n",
      "0          0          0      0  \n",
      "1       2000       2000      0  \n",
      "2          0          0      0  \n",
      "3       3000       3000      0  \n",
      "4          0          0      0  \n",
      "...      ...        ...    ...  \n",
      "2579       0          0      0  \n",
      "2580       0          0      0  \n",
      "2581       0          0      0  \n",
      "2582       0          0      0  \n",
      "2583       0          0      0  \n",
      "\n",
      "[2584 rows x 19 columns]\n",
      "<class 'pandas.core.frame.DataFrame'>\n",
      "RangeIndex: 2584 entries, 0 to 2583\n",
      "Data columns (total 19 columns):\n",
      " #   Column          Non-Null Count  Dtype \n",
      "---  ------          --------------  ----- \n",
      " 0   seismic         2584 non-null   object\n",
      " 1   seismoacoustic  2584 non-null   object\n",
      " 2   shift           2584 non-null   object\n",
      " 3   genergy         2584 non-null   int64 \n",
      " 4   gpuls           2584 non-null   int64 \n",
      " 5   gdenergy        2584 non-null   int64 \n",
      " 6   gdpuls          2584 non-null   int64 \n",
      " 7   ghazard         2584 non-null   object\n",
      " 8   nbumps          2584 non-null   int64 \n",
      " 9   nbumps2         2584 non-null   int64 \n",
      " 10  nbumps3         2584 non-null   int64 \n",
      " 11  nbumps4         2584 non-null   int64 \n",
      " 12  nbumps5         2584 non-null   int64 \n",
      " 13  nbumps6         2584 non-null   int64 \n",
      " 14  nbumps7         2584 non-null   int64 \n",
      " 15  nbumps89        2584 non-null   int64 \n",
      " 16  energy          2584 non-null   int64 \n",
      " 17  maxenergy       2584 non-null   int64 \n",
      " 18  class           2584 non-null   int64 \n",
      "dtypes: int64(15), object(4)\n",
      "memory usage: 383.7+ KB\n",
      "None\n",
      "            genergy        gpuls     gdenergy       gdpuls       nbumps  \\\n",
      "count  2.584000e+03  2584.000000  2584.000000  2584.000000  2584.000000   \n",
      "mean   9.024252e+04   538.579334    12.375774     4.508901     0.859520   \n",
      "std    2.292005e+05   562.652536    80.319051    63.166556     1.364616   \n",
      "min    1.000000e+02     2.000000   -96.000000   -96.000000     0.000000   \n",
      "25%    1.166000e+04   190.000000   -37.000000   -36.000000     0.000000   \n",
      "50%    2.548500e+04   379.000000    -6.000000    -6.000000     0.000000   \n",
      "75%    5.283250e+04   669.000000    38.000000    30.250000     1.000000   \n",
      "max    2.595650e+06  4518.000000  1245.000000   838.000000     9.000000   \n",
      "\n",
      "           nbumps2      nbumps3      nbumps4      nbumps5  nbumps6  nbumps7  \\\n",
      "count  2584.000000  2584.000000  2584.000000  2584.000000   2584.0   2584.0   \n",
      "mean      0.393576     0.392802     0.067724     0.004644      0.0      0.0   \n",
      "std       0.783772     0.769710     0.279059     0.068001      0.0      0.0   \n",
      "min       0.000000     0.000000     0.000000     0.000000      0.0      0.0   \n",
      "25%       0.000000     0.000000     0.000000     0.000000      0.0      0.0   \n",
      "50%       0.000000     0.000000     0.000000     0.000000      0.0      0.0   \n",
      "75%       1.000000     1.000000     0.000000     0.000000      0.0      0.0   \n",
      "max       8.000000     7.000000     3.000000     1.000000      0.0      0.0   \n",
      "\n",
      "       nbumps89         energy      maxenergy        class  \n",
      "count    2584.0    2584.000000    2584.000000  2584.000000  \n",
      "mean        0.0    4975.270898    4278.850619     0.065789  \n",
      "std         0.0   20450.833222   19357.454882     0.247962  \n",
      "min         0.0       0.000000       0.000000     0.000000  \n",
      "25%         0.0       0.000000       0.000000     0.000000  \n",
      "50%         0.0       0.000000       0.000000     0.000000  \n",
      "75%         0.0    2600.000000    2000.000000     0.000000  \n",
      "max         0.0  402000.000000  400000.000000     1.000000  \n"
     ]
    }
   ],
   "source": [
    "print(data)\n",
    "# There are four non numeric columns that must be converted to a numeric format\n",
    "print(data.info())\n",
    "# There is a large difference in the range of values between the columns, so they should be placed on the same scale\n",
    "# for a better performing algorithm\n",
    "# Some of the columns also appear to have all 0 values. These columns should be removed as they appear to provide no\n",
    "# useful information\n",
    "print(data.describe())"
   ]
  },
  {
   "cell_type": "code",
   "execution_count": 4,
   "metadata": {},
   "outputs": [
    {
     "name": "stdout",
     "output_type": "stream",
     "text": [
      "            genergy     gpuls  gdenergy    gdpuls    nbumps   nbumps2  \\\n",
      "genergy    1.000000  0.748020  0.048514  0.071554  0.220720  0.143587   \n",
      "gpuls      0.748020  1.000000  0.293036  0.382906  0.300923  0.207390   \n",
      "gdenergy   0.048514  0.293036  1.000000  0.811944  0.030039  0.041246   \n",
      "gdpuls     0.071554  0.382906  0.811944  1.000000  0.057996  0.051106   \n",
      "nbumps     0.220720  0.300923  0.030039  0.057996  1.000000  0.804978   \n",
      "nbumps2    0.143587  0.207390  0.041246  0.051106  0.804978  1.000000   \n",
      "nbumps3    0.191753  0.225695 -0.012189  0.014735  0.803364  0.350724   \n",
      "nbumps4    0.150589  0.256547  0.036916  0.066195  0.395052  0.161296   \n",
      "nbumps5   -0.009863  0.049450  0.123229  0.141044  0.069613 -0.005251   \n",
      "nbumps6         NaN       NaN       NaN       NaN       NaN       NaN   \n",
      "nbumps7         NaN       NaN       NaN       NaN       NaN       NaN   \n",
      "nbumps89        NaN       NaN       NaN       NaN       NaN       NaN   \n",
      "energy     0.080828  0.187350  0.105971  0.143277  0.347852  0.124650   \n",
      "maxenergy  0.064405  0.164263  0.108572  0.143646  0.273714  0.085032   \n",
      "class      0.128160  0.201042  0.002957  0.021788  0.248144  0.201381   \n",
      "\n",
      "            nbumps3   nbumps4   nbumps5  nbumps6  nbumps7  nbumps89    energy  \\\n",
      "genergy    0.191753  0.150589 -0.009863      NaN      NaN       NaN  0.080828   \n",
      "gpuls      0.225695  0.256547  0.049450      NaN      NaN       NaN  0.187350   \n",
      "gdenergy  -0.012189  0.036916  0.123229      NaN      NaN       NaN  0.105971   \n",
      "gdpuls     0.014735  0.066195  0.141044      NaN      NaN       NaN  0.143277   \n",
      "nbumps     0.803364  0.395052  0.069613      NaN      NaN       NaN  0.347852   \n",
      "nbumps2    0.350724  0.161296 -0.005251      NaN      NaN       NaN  0.124650   \n",
      "nbumps3    1.000000  0.175301  0.046498      NaN      NaN       NaN  0.244083   \n",
      "nbumps4    0.175301  1.000000 -0.016580      NaN      NaN       NaN  0.489828   \n",
      "nbumps5    0.046498 -0.016580  1.000000      NaN      NaN       NaN  0.773605   \n",
      "nbumps6         NaN       NaN       NaN      NaN      NaN       NaN       NaN   \n",
      "nbumps7         NaN       NaN       NaN      NaN      NaN       NaN       NaN   \n",
      "nbumps89        NaN       NaN       NaN      NaN      NaN       NaN       NaN   \n",
      "energy     0.244083  0.489828  0.773605      NaN      NaN       NaN  1.000000   \n",
      "maxenergy  0.176480  0.416483  0.808406      NaN      NaN       NaN  0.989547   \n",
      "class      0.205327  0.075458  0.004834      NaN      NaN       NaN  0.058431   \n",
      "\n",
      "           maxenergy     class  \n",
      "genergy     0.064405  0.128160  \n",
      "gpuls       0.164263  0.201042  \n",
      "gdenergy    0.108572  0.002957  \n",
      "gdpuls      0.143646  0.021788  \n",
      "nbumps      0.273714  0.248144  \n",
      "nbumps2     0.085032  0.201381  \n",
      "nbumps3     0.176480  0.205327  \n",
      "nbumps4     0.416483  0.075458  \n",
      "nbumps5     0.808406  0.004834  \n",
      "nbumps6          NaN       NaN  \n",
      "nbumps7          NaN       NaN  \n",
      "nbumps89         NaN       NaN  \n",
      "energy      0.989547  0.058431  \n",
      "maxenergy   1.000000  0.040243  \n",
      "class       0.040243  1.000000  \n"
     ]
    }
   ],
   "source": [
    "# The columns with all 0 values have no correlation value, so this shows that they can be safely removed\n",
    "print(data.corr())"
   ]
  },
  {
   "cell_type": "code",
   "execution_count": 5,
   "metadata": {},
   "outputs": [
    {
     "name": "stdout",
     "output_type": "stream",
     "text": [
      "     seismic seismoacoustic shift  genergy  gpuls  gdenergy  gdpuls ghazard  \\\n",
      "0          a              a     N    15180     48       -72     -72       a   \n",
      "1          a              a     N    14720     33       -70     -79       a   \n",
      "2          a              a     N     8050     30       -81     -78       a   \n",
      "3          a              a     N    28820    171       -23      40       a   \n",
      "4          a              a     N    12640     57       -63     -52       a   \n",
      "...      ...            ...   ...      ...    ...       ...     ...     ...   \n",
      "2579       b              a     W    81410    785       432     151       b   \n",
      "2580       b              a     W    42110    555       213     118       a   \n",
      "2581       b              a     W    26960    540       101     112       a   \n",
      "2582       a              a     W    16130    322         2       2       a   \n",
      "2583       a              a     W    12750    235       -10     -10       a   \n",
      "\n",
      "      nbumps  nbumps2  nbumps3  nbumps4  nbumps5  energy  maxenergy  class  \n",
      "0          0        0        0        0        0       0          0      0  \n",
      "1          1        0        1        0        0    2000       2000      0  \n",
      "2          0        0        0        0        0       0          0      0  \n",
      "3          1        0        1        0        0    3000       3000      0  \n",
      "4          0        0        0        0        0       0          0      0  \n",
      "...      ...      ...      ...      ...      ...     ...        ...    ...  \n",
      "2579       0        0        0        0        0       0          0      0  \n",
      "2580       0        0        0        0        0       0          0      0  \n",
      "2581       0        0        0        0        0       0          0      0  \n",
      "2582       0        0        0        0        0       0          0      0  \n",
      "2583       0        0        0        0        0       0          0      0  \n",
      "\n",
      "[2584 rows x 16 columns]\n"
     ]
    }
   ],
   "source": [
    "# Remove useless columns\n",
    "data = data.drop(labels=[\"nbumps6\", \"nbumps7\", \"nbumps89\"], axis=1)\n",
    "print(data)"
   ]
  },
  {
   "cell_type": "code",
   "execution_count": 6,
   "metadata": {},
   "outputs": [
    {
     "name": "stdout",
     "output_type": "stream",
     "text": [
      "X:       seismic seismoacoustic shift  genergy  gpuls  gdenergy  gdpuls ghazard  \\\n",
      "0          a              a     N    15180     48       -72     -72       a   \n",
      "1          a              a     N    14720     33       -70     -79       a   \n",
      "2          a              a     N     8050     30       -81     -78       a   \n",
      "3          a              a     N    28820    171       -23      40       a   \n",
      "4          a              a     N    12640     57       -63     -52       a   \n",
      "...      ...            ...   ...      ...    ...       ...     ...     ...   \n",
      "2579       b              a     W    81410    785       432     151       b   \n",
      "2580       b              a     W    42110    555       213     118       a   \n",
      "2581       b              a     W    26960    540       101     112       a   \n",
      "2582       a              a     W    16130    322         2       2       a   \n",
      "2583       a              a     W    12750    235       -10     -10       a   \n",
      "\n",
      "      nbumps  nbumps2  nbumps3  nbumps4  nbumps5  energy  maxenergy  \n",
      "0          0        0        0        0        0       0          0  \n",
      "1          1        0        1        0        0    2000       2000  \n",
      "2          0        0        0        0        0       0          0  \n",
      "3          1        0        1        0        0    3000       3000  \n",
      "4          0        0        0        0        0       0          0  \n",
      "...      ...      ...      ...      ...      ...     ...        ...  \n",
      "2579       0        0        0        0        0       0          0  \n",
      "2580       0        0        0        0        0       0          0  \n",
      "2581       0        0        0        0        0       0          0  \n",
      "2582       0        0        0        0        0       0          0  \n",
      "2583       0        0        0        0        0       0          0  \n",
      "\n",
      "[2584 rows x 15 columns]\n",
      "Y:  0       0\n",
      "1       0\n",
      "2       0\n",
      "3       0\n",
      "4       0\n",
      "       ..\n",
      "2579    0\n",
      "2580    0\n",
      "2581    0\n",
      "2582    0\n",
      "2583    0\n",
      "Name: class, Length: 2584, dtype: int64\n"
     ]
    }
   ],
   "source": [
    "# Separate the data into features and labels\n",
    "X = data.iloc[:, 0:-1]\n",
    "y = data[\"class\"]\n",
    "print(\"X: \", X)\n",
    "print(\"Y: \", y)"
   ]
  },
  {
   "cell_type": "code",
   "execution_count": 7,
   "metadata": {},
   "outputs": [
    {
     "name": "stdout",
     "output_type": "stream",
     "text": [
      "      seismic  seismoacoustic  shift  genergy  gpuls  gdenergy  gdpuls  \\\n",
      "0           0               0      0    15180     48       -72     -72   \n",
      "1           0               0      0    14720     33       -70     -79   \n",
      "2           0               0      0     8050     30       -81     -78   \n",
      "3           0               0      0    28820    171       -23      40   \n",
      "4           0               0      0    12640     57       -63     -52   \n",
      "...       ...             ...    ...      ...    ...       ...     ...   \n",
      "2579        1               0      1    81410    785       432     151   \n",
      "2580        1               0      1    42110    555       213     118   \n",
      "2581        1               0      1    26960    540       101     112   \n",
      "2582        0               0      1    16130    322         2       2   \n",
      "2583        0               0      1    12750    235       -10     -10   \n",
      "\n",
      "      ghazard  nbumps  nbumps2  nbumps3  nbumps4  nbumps5  energy  maxenergy  \n",
      "0           0       0        0        0        0        0       0          0  \n",
      "1           0       1        0        1        0        0    2000       2000  \n",
      "2           0       0        0        0        0        0       0          0  \n",
      "3           0       1        0        1        0        0    3000       3000  \n",
      "4           0       0        0        0        0        0       0          0  \n",
      "...       ...     ...      ...      ...      ...      ...     ...        ...  \n",
      "2579        1       0        0        0        0        0       0          0  \n",
      "2580        0       0        0        0        0        0       0          0  \n",
      "2581        0       0        0        0        0        0       0          0  \n",
      "2582        0       0        0        0        0        0       0          0  \n",
      "2583        0       0        0        0        0        0       0          0  \n",
      "\n",
      "[2584 rows x 15 columns]\n"
     ]
    }
   ],
   "source": [
    "from sklearn.preprocessing import LabelEncoder\n",
    "# The features seismic, seismoacousatic, shift and ghzard are categorical data consisting of characters. \n",
    "# They must be converted to numeric values\n",
    "X[\"seismic\"] = LabelEncoder().fit_transform(X[\"seismic\"])\n",
    "X[\"seismoacoustic\"] = LabelEncoder().fit_transform(X[\"seismoacoustic\"])\n",
    "X[\"shift\"] = LabelEncoder().fit_transform(X[\"shift\"])\n",
    "X[\"ghazard\"] = LabelEncoder().fit_transform(X[\"ghazard\"])\n",
    "print(X)"
   ]
  },
  {
   "cell_type": "code",
   "execution_count": 8,
   "metadata": {},
   "outputs": [
    {
     "name": "stdout",
     "output_type": "stream",
     "text": [
      "[[-0.73230209 -0.77142023 -1.34374329 ... -0.06830542 -0.24332671\n",
      "  -0.22108685]\n",
      " [-0.73230209 -0.77142023 -1.34374329 ... -0.06830542 -0.14551225\n",
      "  -0.11774749]\n",
      " [-0.73230209 -0.77142023 -1.34374329 ... -0.06830542 -0.24332671\n",
      "  -0.22108685]\n",
      " ...\n",
      " [ 1.36555667 -0.77142023  0.74418976 ... -0.06830542 -0.24332671\n",
      "  -0.22108685]\n",
      " [-0.73230209 -0.77142023  0.74418976 ... -0.06830542 -0.24332671\n",
      "  -0.22108685]\n",
      " [-0.73230209 -0.77142023  0.74418976 ... -0.06830542 -0.24332671\n",
      "  -0.22108685]]\n"
     ]
    }
   ],
   "source": [
    "# Scaling numeric data\n",
    "from sklearn.preprocessing import StandardScaler\n",
    "scaler = StandardScaler()\n",
    "X = scaler.fit_transform(X)\n",
    "# Need to turn back into a DataFrame, or preserve the existing DataFrame structure\n",
    "print(X)"
   ]
  },
  {
   "cell_type": "code",
   "execution_count": 10,
   "metadata": {},
   "outputs": [
    {
     "name": "stdout",
     "output_type": "stream",
     "text": [
      "[[-0.73230209 -0.77142023 -1.34374329 ... -0.06830542 -0.11616791\n",
      "  -0.11774749]\n",
      " [-0.73230209 -0.77142023 -1.34374329 ... -0.06830542 -0.24332671\n",
      "  -0.22108685]\n",
      " [-0.73230209 -0.77142023  0.74418976 ... -0.06830542  0.23596412\n",
      "   0.24394029]\n",
      " ...\n",
      " [-0.73230209 -0.77142023 -1.34374329 ... -0.06830542 -0.24332671\n",
      "  -0.22108685]\n",
      " [ 1.36555667 -0.77142023  0.74418976 ... -0.06830542 -0.24332671\n",
      "  -0.22108685]\n",
      " [-0.73230209  1.12339905  0.74418976 ... -0.06830542 -0.24332671\n",
      "  -0.22108685]]\n",
      "(1938, 15)\n",
      "[[-0.73230209 -0.77142023  0.74418976 ... -0.06830542 -0.24332671\n",
      "  -0.22108685]\n",
      " [-0.73230209 -0.77142023  0.74418976 ... -0.06830542 -0.24332671\n",
      "  -0.22108685]\n",
      " [ 1.36555667  1.12339905  0.74418976 ... -0.06830542 -0.22865454\n",
      "  -0.20558595]\n",
      " ...\n",
      " [-0.73230209  3.01821832  0.74418976 ... -0.06830542 -0.24332671\n",
      "  -0.22108685]\n",
      " [-0.73230209 -0.77142023  0.74418976 ... -0.06830542 -0.24332671\n",
      "  -0.22108685]\n",
      " [ 1.36555667 -0.77142023  0.74418976 ... -0.06830542 -0.03791635\n",
      "  -0.11774749]]\n",
      "(646, 15)\n",
      "1436    0\n",
      "1040    0\n",
      "744     0\n",
      "2344    0\n",
      "1093    0\n",
      "       ..\n",
      "2014    0\n",
      "2157    0\n",
      "1931    0\n",
      "1504    0\n",
      "1712    0\n",
      "Name: class, Length: 1938, dtype: int64\n",
      "1116    0\n",
      "1277    0\n",
      "1996    0\n",
      "2489    0\n",
      "374     0\n",
      "       ..\n",
      "2425    0\n",
      "887     0\n",
      "2201    0\n",
      "1899    0\n",
      "2260    1\n",
      "Name: class, Length: 646, dtype: int64\n"
     ]
    }
   ],
   "source": [
    "#Setting up splits\n",
    "from sklearn.model_selection import train_test_split\n",
    "#I wasn't sure if we would want the partitions randomized, so I made a randomized and unrandomized verson.  \n",
    "#If we don't end up needing the unrandomized version, I can easily take it out, but I thought I'd put it there just in case.\n",
    "# From Jacob: There's no disadvantage to shuffling, so I removed the unshuffled version\n",
    "trainX, testX, trainY, testY = train_test_split(X, y, random_state=randomSeed)\n",
    "\n",
    "#I printed the shape as well to confirm it is working properly since the arrays are a bit hard to interpret at the moment\n",
    "\n",
    "print(trainX)\n",
    "print(trainX.shape)\n",
    "print(testX)\n",
    "print(testX.shape)\n",
    "print(trainY)\n",
    "print(testY)"
   ]
  },
  {
   "cell_type": "code",
   "execution_count": 11,
   "metadata": {},
   "outputs": [
    {
     "name": "stdout",
     "output_type": "stream",
     "text": [
      "[0.91538462 0.93023256 0.93023256 0.89147287 0.92248062]\n",
      "0.9195046439628483\n",
      "0.0\n",
      "0.0\n"
     ]
    }
   ],
   "source": [
    "logClassifier = LogisticRegression(random_state=randomSeed).fit(trainX, trainY)\n",
    "logScores = cross_val_score(logClassifier, testX, testY)\n",
    "print(logScores)\n",
    "logPred = logClassifier.predict(testX)\n",
    "# The accuracy is very high, but this is due to the unbalanced data set and complexity of the data set\n",
    "# Precision and recall are both 0 because the classifier was unable to correctly classify any positive instances\n",
    "print(sklearn.metrics.accuracy_score(testY, logPred))\n",
    "print(sklearn.metrics.precision_score(testY, logPred, average='binary', pos_label=1))\n",
    "print(sklearn.metrics.recall_score(testY, logPred, average='binary', pos_label=1))"
   ]
  },
  {
   "cell_type": "code",
   "execution_count": 12,
   "metadata": {},
   "outputs": [
    {
     "name": "stdout",
     "output_type": "stream",
     "text": [
      "[0.92307692 0.9379845  0.93023256 0.92248062 0.91472868]\n",
      "0.9272445820433437\n",
      "0.0\n",
      "0.0\n"
     ]
    }
   ],
   "source": [
    "# Even a random forest classifier has the same difficulty\n",
    "randomForestClassifier = RandomForestClassifier(random_state=randomSeed).fit(trainX, trainY)\n",
    "randomForestScores = cross_val_score(randomForestClassifier, testX, testY)\n",
    "print(randomForestScores)\n",
    "randomForestPred = randomForestClassifier.predict(testX)\n",
    "print(sklearn.metrics.accuracy_score(testY, randomForestPred))\n",
    "print(sklearn.metrics.precision_score(testY, logPred, average='binary', pos_label=1))\n",
    "print(sklearn.metrics.recall_score(testY, logPred, average='binary', pos_label=1))"
   ]
  },
  {
   "cell_type": "code",
   "execution_count": 13,
   "metadata": {},
   "outputs": [
    {
     "name": "stdout",
     "output_type": "stream",
     "text": [
      "Positive instances:  170\n",
      "Negative instances:  2414\n",
      "Positive Percentage:  0.07042253521126761\n",
      "The dataset is very unbalanced - only 7% of the classes are positive. This has to be resolved.\n"
     ]
    }
   ],
   "source": [
    "# How unbalanced is the dataset?\n",
    "posCount = (y == 1).sum()\n",
    "negCount = (y == 0).sum()\n",
    "print(\"Positive instances: \", posCount)\n",
    "print(\"Negative instances: \", negCount)\n",
    "print(\"Positive Percentage: \", posCount / negCount)\n",
    "print(\"The dataset is very unbalanced - only 7% of the classes are positive. This has to be resolved.\");"
   ]
  },
  {
   "cell_type": "code",
   "execution_count": 20,
   "metadata": {},
   "outputs": [
    {
     "name": "stdout",
     "output_type": "stream",
     "text": [
      "[0 0 0 0 0 0 1 0 0 0 0 0 0 0 0 0 0 0 1 0 1 0 0 0 0 0 0 0 0 0 1 0 0 1 1 1 0\n",
      " 0 0 0 0 1 0 0 0 0 1 0 0 0 0 0 0 0 0 0 1 0 1 1 0 1 1 0 0 0 0 1 0 0 1 0 1 0\n",
      " 0 0 0 1 0 0 0 0 0 0 0 1 0 1 1 0 0 0 0 1 0 0 1 0 0 1 0 1 1 0 0 0 0 0 0 0 0\n",
      " 1 1 1 0 1 0 0 0 1 0 0 0 0 0 1 1 0 0 0 0 0 0 0 1 1 0 0 0 0 0 1 1 0 0 0 0 1\n",
      " 1 0 1 0 0 1 1 0 1 0 0 1 1 1 1 0 0 0 0 0 0 1 0 0 0 0 1 0 0 0 0 1 0 0 0 1 0\n",
      " 0 0 0 1 0 0 0 1 0 0 0 0 1 0 0 0 0 0 0 0 0 0 0 0 0 0 1 1 0 1 0 0 1 1 0 0 0\n",
      " 0 0 0 0 1 0 0 1 0 0 0 0 0 0 1 0 0 0 0 0 0 0 1 0 1 0 0 0 0 0 1 0 0 1 0 0 0\n",
      " 1 0 0 0 0 0 1 0 0 0 0 0 1 1 0 1 0 0 0 0 1 1 0 0 0 0 1 0 1 0 0 0 0 0 0 0 1\n",
      " 0 0 0 1 0 0 0 0 0 0 0 0 1 0 0 0 0 1 0 1 0 0 0 0 0 0 0 0 0 0 1 0 1 1 0 0 0\n",
      " 0 0 0 0 0 0 0 1 1 0 1 0 0 0 0 0 0 0 0 0 0 1 0 0 0 0 0 0 0 1 0 0 0 1 0 0 0\n",
      " 1 1 0 0 0 1 0 1 1 0 0 0 1 0 0 1 1 1 0 1 1 0 0 1 0 0 0 0 1 0 0 1 0 0 0 0 0\n",
      " 0 0 1 0 1 0 1 0 0 0 0 1 0 0 1 0 0 0 0 0 0 1 0 0 1 0 0 0 1 0 0 0 0 0 0 1 1\n",
      " 0 1 1 0 0 1 0 0 1 0 0 0 0 1 1 1 0 0 1 0 0 0 0 0 0 0 1 0 0 0 1 0 1 0 0 0 1\n",
      " 0 0 1 0 0 1 0 0 1 0 0 0 0 1 1 1 0 0 0 0 0 0 0 0 0 0 0 0 1 0 0 0 0 0 0 0 0\n",
      " 0 0 1 1 0 1 0 0 0 0 0 1 0 0 0 0 0 0 1 1 0 0 0 1 0 0 0 0 0 0 0 1 0 0 0 0 0\n",
      " 1 1 0 0 0 1 0 0 0 0 0 0 0 0 0 0 0 1 0 0 0 0 0 1 0 0 0 1 0 0 1 0 0 0 1 0 1\n",
      " 0 0 0 0 0 0 0 0 0 0 0 0 0 0 0 0 0 0 0 0 1 0 0 0 0 0 0 0 0 0 1 0 1 0 0 0 0\n",
      " 1 1 0 0 0 0 1 1 0 0 0 0 0 0 0 0 1]\n",
      "0.7755417956656346\n",
      "[0.81538462 0.7751938  0.81395349 0.7751938  0.76744186]\n"
     ]
    }
   ],
   "source": [
    "#I think this helped.  The accuracy isnt as good but its actually predicting now.\n",
    "#the accuracy didnt tank quite as much as I thought it would.\n",
    "from sklearn.svm import SVC\n",
    "from sklearn.metrics import accuracy_score\n",
    "clfSVC = SVC(kernel='linear', class_weight='balanced', probability=True)\n",
    "clfSVC.fit(trainX, trainY)\n",
    "predSVC = clfSVC.predict(testX)\n",
    "print(predSVC)\n",
    "print( accuracy_score(testY, predSVC) )\n",
    "SVCScores = cross_val_score(clfSVC, testX, testY)\n",
    "print(SVCScores)"
   ]
  },
  {
   "cell_type": "code",
   "execution_count": null,
   "metadata": {},
   "outputs": [],
   "source": []
  }
 ],
 "metadata": {
  "kernelspec": {
   "display_name": "Python 3",
   "language": "python",
   "name": "python3"
  },
  "language_info": {
   "codemirror_mode": {
    "name": "ipython",
    "version": 3
   },
   "file_extension": ".py",
   "mimetype": "text/x-python",
   "name": "python",
   "nbconvert_exporter": "python",
   "pygments_lexer": "ipython3",
   "version": "3.8.8"
  }
 },
 "nbformat": 4,
 "nbformat_minor": 4
}
